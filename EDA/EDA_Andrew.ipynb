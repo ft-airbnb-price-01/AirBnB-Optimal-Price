{
 "metadata": {
  "language_info": {
   "codemirror_mode": {
    "name": "ipython",
    "version": 3
   },
   "file_extension": ".py",
   "mimetype": "text/x-python",
   "name": "python",
   "nbconvert_exporter": "python",
   "pygments_lexer": "ipython3",
   "version": "3.8.2"
  },
  "orig_nbformat": 2,
  "kernelspec": {
   "name": "python382jvsc74a57bd031f2aee4e71d21fbe5cf8b01ff0e069b9275f58929596ceb00d14d90e3e16cd6",
   "display_name": "Python 3.8.2 64-bit"
  },
  "metadata": {
   "interpreter": {
    "hash": "31f2aee4e71d21fbe5cf8b01ff0e069b9275f58929596ceb00d14d90e3e16cd6"
   }
  }
 },
 "nbformat": 4,
 "nbformat_minor": 2,
 "cells": [
  {
   "cell_type": "code",
   "execution_count": 1,
   "metadata": {},
   "outputs": [],
   "source": [
    "import pandas as pd\n",
    "\n",
    "filename = \"../data/train.csv\"\n",
    "df = pd.read_csv(filename, index_col=\"id\")"
   ]
  },
  {
   "cell_type": "code",
   "execution_count": 2,
   "metadata": {},
   "outputs": [
    {
     "output_type": "execute_result",
     "data": {
      "text/plain": [
       "          log_price property_type        room_type  \\\n",
       "id                                                   \n",
       "6901257    5.010635     Apartment  Entire home/apt   \n",
       "6304928    5.129899     Apartment  Entire home/apt   \n",
       "7919400    4.976734     Apartment  Entire home/apt   \n",
       "13418779   6.620073         House  Entire home/apt   \n",
       "3808709    4.744932     Apartment  Entire home/apt   \n",
       "\n",
       "                                                  amenities  accommodates  \\\n",
       "id                                                                          \n",
       "6901257   {\"Wireless Internet\",\"Air conditioning\",Kitche...             3   \n",
       "6304928   {\"Wireless Internet\",\"Air conditioning\",Kitche...             7   \n",
       "7919400   {TV,\"Cable TV\",\"Wireless Internet\",\"Air condit...             5   \n",
       "13418779  {TV,\"Cable TV\",Internet,\"Wireless Internet\",Ki...             4   \n",
       "3808709   {TV,Internet,\"Wireless Internet\",\"Air conditio...             2   \n",
       "\n",
       "          bathrooms  bed_type cancellation_policy  cleaning_fee city  ...  \\\n",
       "id                                                                    ...   \n",
       "6901257         1.0  Real Bed              strict          True  NYC  ...   \n",
       "6304928         1.0  Real Bed              strict          True  NYC  ...   \n",
       "7919400         1.0  Real Bed            moderate          True  NYC  ...   \n",
       "13418779        1.0  Real Bed            flexible          True   SF  ...   \n",
       "3808709         1.0  Real Bed            moderate          True   DC  ...   \n",
       "\n",
       "           latitude   longitude                                      name  \\\n",
       "id                                                                          \n",
       "6901257   40.696524  -73.991617            Beautiful brownstone 1-bedroom   \n",
       "6304928   40.766115  -73.989040  Superb 3BR Apt Located Near Times Square   \n",
       "7919400   40.808110  -73.943756                          The Garden Oasis   \n",
       "13418779  37.772004 -122.431619        Beautiful Flat in the Heart of SF!   \n",
       "3808709   38.925627  -77.034596                Great studio in midtown DC   \n",
       "\n",
       "             neighbourhood number_of_reviews review_scores_rating  \\\n",
       "id                                                                  \n",
       "6901257   Brooklyn Heights                 2                100.0   \n",
       "6304928     Hell's Kitchen                 6                 93.0   \n",
       "7919400             Harlem                10                 92.0   \n",
       "13418779      Lower Haight                 0                  NaN   \n",
       "3808709   Columbia Heights                 4                 40.0   \n",
       "\n",
       "                                              thumbnail_url  zipcode  \\\n",
       "id                                                                     \n",
       "6901257   https://a0.muscache.com/im/pictures/6d7cbbf7-c...    11201   \n",
       "6304928   https://a0.muscache.com/im/pictures/348a55fe-4...    10019   \n",
       "7919400   https://a0.muscache.com/im/pictures/6fae5362-9...    10027   \n",
       "13418779  https://a0.muscache.com/im/pictures/72208dad-9...  94117.0   \n",
       "3808709                                                 NaN    20009   \n",
       "\n",
       "          bedrooms  beds  \n",
       "id                        \n",
       "6901257        1.0   1.0  \n",
       "6304928        3.0   3.0  \n",
       "7919400        1.0   3.0  \n",
       "13418779       2.0   2.0  \n",
       "3808709        0.0   1.0  \n",
       "\n",
       "[5 rows x 28 columns]"
      ],
      "text/html": "<div>\n<style scoped>\n    .dataframe tbody tr th:only-of-type {\n        vertical-align: middle;\n    }\n\n    .dataframe tbody tr th {\n        vertical-align: top;\n    }\n\n    .dataframe thead th {\n        text-align: right;\n    }\n</style>\n<table border=\"1\" class=\"dataframe\">\n  <thead>\n    <tr style=\"text-align: right;\">\n      <th></th>\n      <th>log_price</th>\n      <th>property_type</th>\n      <th>room_type</th>\n      <th>amenities</th>\n      <th>accommodates</th>\n      <th>bathrooms</th>\n      <th>bed_type</th>\n      <th>cancellation_policy</th>\n      <th>cleaning_fee</th>\n      <th>city</th>\n      <th>...</th>\n      <th>latitude</th>\n      <th>longitude</th>\n      <th>name</th>\n      <th>neighbourhood</th>\n      <th>number_of_reviews</th>\n      <th>review_scores_rating</th>\n      <th>thumbnail_url</th>\n      <th>zipcode</th>\n      <th>bedrooms</th>\n      <th>beds</th>\n    </tr>\n    <tr>\n      <th>id</th>\n      <th></th>\n      <th></th>\n      <th></th>\n      <th></th>\n      <th></th>\n      <th></th>\n      <th></th>\n      <th></th>\n      <th></th>\n      <th></th>\n      <th></th>\n      <th></th>\n      <th></th>\n      <th></th>\n      <th></th>\n      <th></th>\n      <th></th>\n      <th></th>\n      <th></th>\n      <th></th>\n      <th></th>\n    </tr>\n  </thead>\n  <tbody>\n    <tr>\n      <th>6901257</th>\n      <td>5.010635</td>\n      <td>Apartment</td>\n      <td>Entire home/apt</td>\n      <td>{\"Wireless Internet\",\"Air conditioning\",Kitche...</td>\n      <td>3</td>\n      <td>1.0</td>\n      <td>Real Bed</td>\n      <td>strict</td>\n      <td>True</td>\n      <td>NYC</td>\n      <td>...</td>\n      <td>40.696524</td>\n      <td>-73.991617</td>\n      <td>Beautiful brownstone 1-bedroom</td>\n      <td>Brooklyn Heights</td>\n      <td>2</td>\n      <td>100.0</td>\n      <td>https://a0.muscache.com/im/pictures/6d7cbbf7-c...</td>\n      <td>11201</td>\n      <td>1.0</td>\n      <td>1.0</td>\n    </tr>\n    <tr>\n      <th>6304928</th>\n      <td>5.129899</td>\n      <td>Apartment</td>\n      <td>Entire home/apt</td>\n      <td>{\"Wireless Internet\",\"Air conditioning\",Kitche...</td>\n      <td>7</td>\n      <td>1.0</td>\n      <td>Real Bed</td>\n      <td>strict</td>\n      <td>True</td>\n      <td>NYC</td>\n      <td>...</td>\n      <td>40.766115</td>\n      <td>-73.989040</td>\n      <td>Superb 3BR Apt Located Near Times Square</td>\n      <td>Hell's Kitchen</td>\n      <td>6</td>\n      <td>93.0</td>\n      <td>https://a0.muscache.com/im/pictures/348a55fe-4...</td>\n      <td>10019</td>\n      <td>3.0</td>\n      <td>3.0</td>\n    </tr>\n    <tr>\n      <th>7919400</th>\n      <td>4.976734</td>\n      <td>Apartment</td>\n      <td>Entire home/apt</td>\n      <td>{TV,\"Cable TV\",\"Wireless Internet\",\"Air condit...</td>\n      <td>5</td>\n      <td>1.0</td>\n      <td>Real Bed</td>\n      <td>moderate</td>\n      <td>True</td>\n      <td>NYC</td>\n      <td>...</td>\n      <td>40.808110</td>\n      <td>-73.943756</td>\n      <td>The Garden Oasis</td>\n      <td>Harlem</td>\n      <td>10</td>\n      <td>92.0</td>\n      <td>https://a0.muscache.com/im/pictures/6fae5362-9...</td>\n      <td>10027</td>\n      <td>1.0</td>\n      <td>3.0</td>\n    </tr>\n    <tr>\n      <th>13418779</th>\n      <td>6.620073</td>\n      <td>House</td>\n      <td>Entire home/apt</td>\n      <td>{TV,\"Cable TV\",Internet,\"Wireless Internet\",Ki...</td>\n      <td>4</td>\n      <td>1.0</td>\n      <td>Real Bed</td>\n      <td>flexible</td>\n      <td>True</td>\n      <td>SF</td>\n      <td>...</td>\n      <td>37.772004</td>\n      <td>-122.431619</td>\n      <td>Beautiful Flat in the Heart of SF!</td>\n      <td>Lower Haight</td>\n      <td>0</td>\n      <td>NaN</td>\n      <td>https://a0.muscache.com/im/pictures/72208dad-9...</td>\n      <td>94117.0</td>\n      <td>2.0</td>\n      <td>2.0</td>\n    </tr>\n    <tr>\n      <th>3808709</th>\n      <td>4.744932</td>\n      <td>Apartment</td>\n      <td>Entire home/apt</td>\n      <td>{TV,Internet,\"Wireless Internet\",\"Air conditio...</td>\n      <td>2</td>\n      <td>1.0</td>\n      <td>Real Bed</td>\n      <td>moderate</td>\n      <td>True</td>\n      <td>DC</td>\n      <td>...</td>\n      <td>38.925627</td>\n      <td>-77.034596</td>\n      <td>Great studio in midtown DC</td>\n      <td>Columbia Heights</td>\n      <td>4</td>\n      <td>40.0</td>\n      <td>NaN</td>\n      <td>20009</td>\n      <td>0.0</td>\n      <td>1.0</td>\n    </tr>\n  </tbody>\n</table>\n<p>5 rows × 28 columns</p>\n</div>"
     },
     "metadata": {},
     "execution_count": 2
    }
   ],
   "source": [
    "df.head(5)"
   ]
  },
  {
   "cell_type": "code",
   "execution_count": 4,
   "metadata": {},
   "outputs": [
    {
     "output_type": "execute_result",
     "data": {
      "text/plain": [
       "35"
      ]
     },
     "metadata": {},
     "execution_count": 4
    }
   ],
   "source": [
    "df[\"property_type\"].nunique()"
   ]
  },
  {
   "cell_type": "code",
   "execution_count": 5,
   "metadata": {},
   "outputs": [
    {
     "output_type": "execute_result",
     "data": {
      "text/plain": [
       "Apartment             49003\n",
       "House                 16511\n",
       "Condominium            2658\n",
       "Townhouse              1692\n",
       "Loft                   1244\n",
       "Other                   607\n",
       "Guesthouse              498\n",
       "Bed & Breakfast         462\n",
       "Bungalow                366\n",
       "Villa                   179\n",
       "Dorm                    142\n",
       "Guest suite             123\n",
       "Camper/RV                94\n",
       "Timeshare                77\n",
       "Cabin                    72\n",
       "In-law                   71\n",
       "Hostel                   70\n",
       "Boutique hotel           69\n",
       "Boat                     65\n",
       "Serviced apartment       21\n",
       "Tent                     18\n",
       "Castle                   13\n",
       "Vacation home            11\n",
       "Yurt                      9\n",
       "Hut                       8\n",
       "Treehouse                 7\n",
       "Chalet                    6\n",
       "Earth House               4\n",
       "Tipi                      3\n",
       "Train                     2\n",
       "Cave                      2\n",
       "Island                    1\n",
       "Lighthouse                1\n",
       "Parking Space             1\n",
       "Casa particular           1\n",
       "Name: property_type, dtype: int64"
      ]
     },
     "metadata": {},
     "execution_count": 5
    }
   ],
   "source": [
    "df[\"property_type\"].value_counts()"
   ]
  },
  {
   "cell_type": "code",
   "execution_count": null,
   "metadata": {},
   "outputs": [],
   "source": []
  },
  {
   "cell_type": "code",
   "execution_count": 4,
   "metadata": {},
   "outputs": [
    {
     "output_type": "execute_result",
     "data": {
      "text/plain": [
       "(74111, 28)"
      ]
     },
     "metadata": {},
     "execution_count": 4
    }
   ],
   "source": [
    "df.shape"
   ]
  },
  {
   "cell_type": "code",
   "execution_count": 5,
   "metadata": {},
   "outputs": [
    {
     "output_type": "execute_result",
     "data": {
      "text/plain": [
       "'{\"Wireless Internet\",\"Air conditioning\",Kitchen,Heating,\"Family/kid friendly\",Essentials,\"Hair dryer\",Iron,\"translation missing: en.hosting_amenity_50\"}'"
      ]
     },
     "metadata": {},
     "execution_count": 5
    }
   ],
   "source": [
    "df[\"amenities\"].iloc[0]\n",
    "\n",
    "'{\"Wireless Internet\",\"Air conditioning\",Kitchen,Heating,\"Family/kid friendly\",Essentials,\"Hair dryer\",Iron,\"translation missing: en.hosting_amenity_50\"}'"
   ]
  },
  {
   "cell_type": "code",
   "execution_count": 6,
   "metadata": {},
   "outputs": [
    {
     "output_type": "stream",
     "name": "stdout",
     "text": [
      "<class 'pandas.core.frame.DataFrame'>\nInt64Index: 74111 entries, 6901257 to 3534845\nData columns (total 28 columns):\n #   Column                  Non-Null Count  Dtype  \n---  ------                  --------------  -----  \n 0   log_price               74111 non-null  float64\n 1   property_type           74111 non-null  object \n 2   room_type               74111 non-null  object \n 3   amenities               74111 non-null  object \n 4   accommodates            74111 non-null  int64  \n 5   bathrooms               73911 non-null  float64\n 6   bed_type                74111 non-null  object \n 7   cancellation_policy     74111 non-null  object \n 8   cleaning_fee            74111 non-null  bool   \n 9   city                    74111 non-null  object \n 10  description             74111 non-null  object \n 11  first_review            58247 non-null  object \n 12  host_has_profile_pic    73923 non-null  object \n 13  host_identity_verified  73923 non-null  object \n 14  host_response_rate      55812 non-null  object \n 15  host_since              73923 non-null  object \n 16  instant_bookable        74111 non-null  object \n 17  last_review             58284 non-null  object \n 18  latitude                74111 non-null  float64\n 19  longitude               74111 non-null  float64\n 20  name                    74111 non-null  object \n 21  neighbourhood           67239 non-null  object \n 22  number_of_reviews       74111 non-null  int64  \n 23  review_scores_rating    57389 non-null  float64\n 24  thumbnail_url           65895 non-null  object \n 25  zipcode                 73145 non-null  object \n 26  bedrooms                74020 non-null  float64\n 27  beds                    73980 non-null  float64\ndtypes: bool(1), float64(7), int64(2), object(18)\nmemory usage: 15.9+ MB\n"
     ]
    }
   ],
   "source": [
    "df.info()"
   ]
  },
  {
   "cell_type": "code",
   "execution_count": 7,
   "metadata": {},
   "outputs": [
    {
     "output_type": "execute_result",
     "data": {
      "text/plain": [
       "                      log_price  accommodates  bathrooms  cleaning_fee  \\\n",
       "log_price              1.000000      0.567574   0.355420      0.111191   \n",
       "accommodates           0.567574      1.000000   0.505632      0.182306   \n",
       "bathrooms              0.355420      0.505632   1.000000      0.053784   \n",
       "cleaning_fee           0.111191      0.182306   0.053784      1.000000   \n",
       "latitude              -0.002193     -0.078309  -0.137959     -0.060913   \n",
       "longitude             -0.047529     -0.085160  -0.135026     -0.068505   \n",
       "number_of_reviews     -0.032470      0.041964  -0.041381      0.110204   \n",
       "review_scores_rating   0.091219     -0.017128   0.010537      0.034879   \n",
       "bedrooms               0.473212      0.709258   0.589935      0.105454   \n",
       "beds                   0.442153      0.810801   0.525591      0.131632   \n",
       "\n",
       "                      latitude  longitude  number_of_reviews  \\\n",
       "log_price            -0.002193  -0.047529          -0.032470   \n",
       "accommodates         -0.078309  -0.085160           0.041964   \n",
       "bathrooms            -0.137959  -0.135026          -0.041381   \n",
       "cleaning_fee         -0.060913  -0.068505           0.110204   \n",
       "latitude              1.000000   0.896065          -0.017642   \n",
       "longitude             0.896065   1.000000          -0.050009   \n",
       "number_of_reviews    -0.017642  -0.050009           1.000000   \n",
       "review_scores_rating -0.032858  -0.048801           0.011708   \n",
       "bedrooms             -0.059162  -0.076113          -0.035149   \n",
       "beds                 -0.080294  -0.082150           0.031109   \n",
       "\n",
       "                      review_scores_rating  bedrooms      beds  \n",
       "log_price                         0.091219  0.473212  0.442153  \n",
       "accommodates                     -0.017128  0.709258  0.810801  \n",
       "bathrooms                         0.010537  0.589935  0.525591  \n",
       "cleaning_fee                      0.034879  0.105454  0.131632  \n",
       "latitude                         -0.032858 -0.059162 -0.080294  \n",
       "longitude                        -0.048801 -0.076113 -0.082150  \n",
       "number_of_reviews                 0.011708 -0.035149  0.031109  \n",
       "review_scores_rating              1.000000  0.011143 -0.027330  \n",
       "bedrooms                          0.011143  1.000000  0.709416  \n",
       "beds                             -0.027330  0.709416  1.000000  "
      ],
      "text/html": "<div>\n<style scoped>\n    .dataframe tbody tr th:only-of-type {\n        vertical-align: middle;\n    }\n\n    .dataframe tbody tr th {\n        vertical-align: top;\n    }\n\n    .dataframe thead th {\n        text-align: right;\n    }\n</style>\n<table border=\"1\" class=\"dataframe\">\n  <thead>\n    <tr style=\"text-align: right;\">\n      <th></th>\n      <th>log_price</th>\n      <th>accommodates</th>\n      <th>bathrooms</th>\n      <th>cleaning_fee</th>\n      <th>latitude</th>\n      <th>longitude</th>\n      <th>number_of_reviews</th>\n      <th>review_scores_rating</th>\n      <th>bedrooms</th>\n      <th>beds</th>\n    </tr>\n  </thead>\n  <tbody>\n    <tr>\n      <th>log_price</th>\n      <td>1.000000</td>\n      <td>0.567574</td>\n      <td>0.355420</td>\n      <td>0.111191</td>\n      <td>-0.002193</td>\n      <td>-0.047529</td>\n      <td>-0.032470</td>\n      <td>0.091219</td>\n      <td>0.473212</td>\n      <td>0.442153</td>\n    </tr>\n    <tr>\n      <th>accommodates</th>\n      <td>0.567574</td>\n      <td>1.000000</td>\n      <td>0.505632</td>\n      <td>0.182306</td>\n      <td>-0.078309</td>\n      <td>-0.085160</td>\n      <td>0.041964</td>\n      <td>-0.017128</td>\n      <td>0.709258</td>\n      <td>0.810801</td>\n    </tr>\n    <tr>\n      <th>bathrooms</th>\n      <td>0.355420</td>\n      <td>0.505632</td>\n      <td>1.000000</td>\n      <td>0.053784</td>\n      <td>-0.137959</td>\n      <td>-0.135026</td>\n      <td>-0.041381</td>\n      <td>0.010537</td>\n      <td>0.589935</td>\n      <td>0.525591</td>\n    </tr>\n    <tr>\n      <th>cleaning_fee</th>\n      <td>0.111191</td>\n      <td>0.182306</td>\n      <td>0.053784</td>\n      <td>1.000000</td>\n      <td>-0.060913</td>\n      <td>-0.068505</td>\n      <td>0.110204</td>\n      <td>0.034879</td>\n      <td>0.105454</td>\n      <td>0.131632</td>\n    </tr>\n    <tr>\n      <th>latitude</th>\n      <td>-0.002193</td>\n      <td>-0.078309</td>\n      <td>-0.137959</td>\n      <td>-0.060913</td>\n      <td>1.000000</td>\n      <td>0.896065</td>\n      <td>-0.017642</td>\n      <td>-0.032858</td>\n      <td>-0.059162</td>\n      <td>-0.080294</td>\n    </tr>\n    <tr>\n      <th>longitude</th>\n      <td>-0.047529</td>\n      <td>-0.085160</td>\n      <td>-0.135026</td>\n      <td>-0.068505</td>\n      <td>0.896065</td>\n      <td>1.000000</td>\n      <td>-0.050009</td>\n      <td>-0.048801</td>\n      <td>-0.076113</td>\n      <td>-0.082150</td>\n    </tr>\n    <tr>\n      <th>number_of_reviews</th>\n      <td>-0.032470</td>\n      <td>0.041964</td>\n      <td>-0.041381</td>\n      <td>0.110204</td>\n      <td>-0.017642</td>\n      <td>-0.050009</td>\n      <td>1.000000</td>\n      <td>0.011708</td>\n      <td>-0.035149</td>\n      <td>0.031109</td>\n    </tr>\n    <tr>\n      <th>review_scores_rating</th>\n      <td>0.091219</td>\n      <td>-0.017128</td>\n      <td>0.010537</td>\n      <td>0.034879</td>\n      <td>-0.032858</td>\n      <td>-0.048801</td>\n      <td>0.011708</td>\n      <td>1.000000</td>\n      <td>0.011143</td>\n      <td>-0.027330</td>\n    </tr>\n    <tr>\n      <th>bedrooms</th>\n      <td>0.473212</td>\n      <td>0.709258</td>\n      <td>0.589935</td>\n      <td>0.105454</td>\n      <td>-0.059162</td>\n      <td>-0.076113</td>\n      <td>-0.035149</td>\n      <td>0.011143</td>\n      <td>1.000000</td>\n      <td>0.709416</td>\n    </tr>\n    <tr>\n      <th>beds</th>\n      <td>0.442153</td>\n      <td>0.810801</td>\n      <td>0.525591</td>\n      <td>0.131632</td>\n      <td>-0.080294</td>\n      <td>-0.082150</td>\n      <td>0.031109</td>\n      <td>-0.027330</td>\n      <td>0.709416</td>\n      <td>1.000000</td>\n    </tr>\n  </tbody>\n</table>\n</div>"
     },
     "metadata": {},
     "execution_count": 7
    }
   ],
   "source": [
    "df.corr()\n"
   ]
  },
  {
   "cell_type": "code",
   "execution_count": 8,
   "metadata": {},
   "outputs": [
    {
     "output_type": "execute_result",
     "data": {
      "text/plain": [
       "log_price               1.000000\n",
       "accommodates            0.567574\n",
       "bedrooms                0.473212\n",
       "beds                    0.442153\n",
       "bathrooms               0.355420\n",
       "cleaning_fee            0.111191\n",
       "review_scores_rating    0.091219\n",
       "longitude               0.047529\n",
       "number_of_reviews       0.032470\n",
       "latitude                0.002193\n",
       "Name: log_price, dtype: float64"
      ]
     },
     "metadata": {},
     "execution_count": 8
    }
   ],
   "source": [
    "abs(df.corr()[\"log_price\"]).sort_values(ascending=False)"
   ]
  },
  {
   "cell_type": "code",
   "execution_count": 30,
   "metadata": {},
   "outputs": [
    {
     "output_type": "execute_result",
     "data": {
      "text/plain": [
       "t    49748\n",
       "f    24175\n",
       "Name: host_identity_verified, dtype: int64"
      ]
     },
     "metadata": {},
     "execution_count": 30
    }
   ],
   "source": [
    "df[\"host_identity_verified\"].value_counts()"
   ]
  },
  {
   "cell_type": "code",
   "execution_count": 28,
   "metadata": {},
   "outputs": [
    {
     "output_type": "execute_result",
     "data": {
      "text/plain": [
       "619"
      ]
     },
     "metadata": {},
     "execution_count": 28
    }
   ],
   "source": [
    "df[\"neighbourhood\"].nunique()"
   ]
  },
  {
   "cell_type": "code",
   "execution_count": null,
   "metadata": {},
   "outputs": [],
   "source": []
  }
 ]
}