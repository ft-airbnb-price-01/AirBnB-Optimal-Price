{
 "metadata": {
  "language_info": {
   "codemirror_mode": {
    "name": "ipython",
    "version": 3
   },
   "file_extension": ".py",
   "mimetype": "text/x-python",
   "name": "python",
   "nbconvert_exporter": "python",
   "pygments_lexer": "ipython3",
   "version": "3.8.2"
  },
  "orig_nbformat": 2,
  "kernelspec": {
   "name": "python382jvsc74a57bd031f2aee4e71d21fbe5cf8b01ff0e069b9275f58929596ceb00d14d90e3e16cd6",
   "display_name": "Python 3.8.2 64-bit"
  },
  "metadata": {
   "interpreter": {
    "hash": "31f2aee4e71d21fbe5cf8b01ff0e069b9275f58929596ceb00d14d90e3e16cd6"
   }
  }
 },
 "nbformat": 4,
 "nbformat_minor": 2,
 "cells": [
  {
   "cell_type": "code",
   "execution_count": 2,
   "metadata": {},
   "outputs": [],
   "source": [
    "import pandas as pd\n",
    "\n",
    "filename = \"../data/train.csv\"\n",
    "df = pd.read_csv(filename, index_col=\"id\")"
   ]
  },
  {
   "cell_type": "code",
   "execution_count": 3,
   "metadata": {},
   "outputs": [
    {
     "output_type": "execute_result",
     "data": {
      "text/plain": [
       "          log_price property_type        room_type  \\\n",
       "id                                                   \n",
       "6901257    5.010635     Apartment  Entire home/apt   \n",
       "6304928    5.129899     Apartment  Entire home/apt   \n",
       "7919400    4.976734     Apartment  Entire home/apt   \n",
       "13418779   6.620073         House  Entire home/apt   \n",
       "3808709    4.744932     Apartment  Entire home/apt   \n",
       "\n",
       "                                                  amenities  accommodates  \\\n",
       "id                                                                          \n",
       "6901257   {\"Wireless Internet\",\"Air conditioning\",Kitche...             3   \n",
       "6304928   {\"Wireless Internet\",\"Air conditioning\",Kitche...             7   \n",
       "7919400   {TV,\"Cable TV\",\"Wireless Internet\",\"Air condit...             5   \n",
       "13418779  {TV,\"Cable TV\",Internet,\"Wireless Internet\",Ki...             4   \n",
       "3808709   {TV,Internet,\"Wireless Internet\",\"Air conditio...             2   \n",
       "\n",
       "          bathrooms  bed_type cancellation_policy  cleaning_fee city  ...  \\\n",
       "id                                                                    ...   \n",
       "6901257         1.0  Real Bed              strict          True  NYC  ...   \n",
       "6304928         1.0  Real Bed              strict          True  NYC  ...   \n",
       "7919400         1.0  Real Bed            moderate          True  NYC  ...   \n",
       "13418779        1.0  Real Bed            flexible          True   SF  ...   \n",
       "3808709         1.0  Real Bed            moderate          True   DC  ...   \n",
       "\n",
       "           latitude   longitude                                      name  \\\n",
       "id                                                                          \n",
       "6901257   40.696524  -73.991617            Beautiful brownstone 1-bedroom   \n",
       "6304928   40.766115  -73.989040  Superb 3BR Apt Located Near Times Square   \n",
       "7919400   40.808110  -73.943756                          The Garden Oasis   \n",
       "13418779  37.772004 -122.431619        Beautiful Flat in the Heart of SF!   \n",
       "3808709   38.925627  -77.034596                Great studio in midtown DC   \n",
       "\n",
       "             neighbourhood number_of_reviews review_scores_rating  \\\n",
       "id                                                                  \n",
       "6901257   Brooklyn Heights                 2                100.0   \n",
       "6304928     Hell's Kitchen                 6                 93.0   \n",
       "7919400             Harlem                10                 92.0   \n",
       "13418779      Lower Haight                 0                  NaN   \n",
       "3808709   Columbia Heights                 4                 40.0   \n",
       "\n",
       "                                              thumbnail_url  zipcode  \\\n",
       "id                                                                     \n",
       "6901257   https://a0.muscache.com/im/pictures/6d7cbbf7-c...    11201   \n",
       "6304928   https://a0.muscache.com/im/pictures/348a55fe-4...    10019   \n",
       "7919400   https://a0.muscache.com/im/pictures/6fae5362-9...    10027   \n",
       "13418779  https://a0.muscache.com/im/pictures/72208dad-9...  94117.0   \n",
       "3808709                                                 NaN    20009   \n",
       "\n",
       "          bedrooms  beds  \n",
       "id                        \n",
       "6901257        1.0   1.0  \n",
       "6304928        3.0   3.0  \n",
       "7919400        1.0   3.0  \n",
       "13418779       2.0   2.0  \n",
       "3808709        0.0   1.0  \n",
       "\n",
       "[5 rows x 28 columns]"
      ],
      "text/html": "<div>\n<style scoped>\n    .dataframe tbody tr th:only-of-type {\n        vertical-align: middle;\n    }\n\n    .dataframe tbody tr th {\n        vertical-align: top;\n    }\n\n    .dataframe thead th {\n        text-align: right;\n    }\n</style>\n<table border=\"1\" class=\"dataframe\">\n  <thead>\n    <tr style=\"text-align: right;\">\n      <th></th>\n      <th>log_price</th>\n      <th>property_type</th>\n      <th>room_type</th>\n      <th>amenities</th>\n      <th>accommodates</th>\n      <th>bathrooms</th>\n      <th>bed_type</th>\n      <th>cancellation_policy</th>\n      <th>cleaning_fee</th>\n      <th>city</th>\n      <th>...</th>\n      <th>latitude</th>\n      <th>longitude</th>\n      <th>name</th>\n      <th>neighbourhood</th>\n      <th>number_of_reviews</th>\n      <th>review_scores_rating</th>\n      <th>thumbnail_url</th>\n      <th>zipcode</th>\n      <th>bedrooms</th>\n      <th>beds</th>\n    </tr>\n    <tr>\n      <th>id</th>\n      <th></th>\n      <th></th>\n      <th></th>\n      <th></th>\n      <th></th>\n      <th></th>\n      <th></th>\n      <th></th>\n      <th></th>\n      <th></th>\n      <th></th>\n      <th></th>\n      <th></th>\n      <th></th>\n      <th></th>\n      <th></th>\n      <th></th>\n      <th></th>\n      <th></th>\n      <th></th>\n      <th></th>\n    </tr>\n  </thead>\n  <tbody>\n    <tr>\n      <th>6901257</th>\n      <td>5.010635</td>\n      <td>Apartment</td>\n      <td>Entire home/apt</td>\n      <td>{\"Wireless Internet\",\"Air conditioning\",Kitche...</td>\n      <td>3</td>\n      <td>1.0</td>\n      <td>Real Bed</td>\n      <td>strict</td>\n      <td>True</td>\n      <td>NYC</td>\n      <td>...</td>\n      <td>40.696524</td>\n      <td>-73.991617</td>\n      <td>Beautiful brownstone 1-bedroom</td>\n      <td>Brooklyn Heights</td>\n      <td>2</td>\n      <td>100.0</td>\n      <td>https://a0.muscache.com/im/pictures/6d7cbbf7-c...</td>\n      <td>11201</td>\n      <td>1.0</td>\n      <td>1.0</td>\n    </tr>\n    <tr>\n      <th>6304928</th>\n      <td>5.129899</td>\n      <td>Apartment</td>\n      <td>Entire home/apt</td>\n      <td>{\"Wireless Internet\",\"Air conditioning\",Kitche...</td>\n      <td>7</td>\n      <td>1.0</td>\n      <td>Real Bed</td>\n      <td>strict</td>\n      <td>True</td>\n      <td>NYC</td>\n      <td>...</td>\n      <td>40.766115</td>\n      <td>-73.989040</td>\n      <td>Superb 3BR Apt Located Near Times Square</td>\n      <td>Hell's Kitchen</td>\n      <td>6</td>\n      <td>93.0</td>\n      <td>https://a0.muscache.com/im/pictures/348a55fe-4...</td>\n      <td>10019</td>\n      <td>3.0</td>\n      <td>3.0</td>\n    </tr>\n    <tr>\n      <th>7919400</th>\n      <td>4.976734</td>\n      <td>Apartment</td>\n      <td>Entire home/apt</td>\n      <td>{TV,\"Cable TV\",\"Wireless Internet\",\"Air condit...</td>\n      <td>5</td>\n      <td>1.0</td>\n      <td>Real Bed</td>\n      <td>moderate</td>\n      <td>True</td>\n      <td>NYC</td>\n      <td>...</td>\n      <td>40.808110</td>\n      <td>-73.943756</td>\n      <td>The Garden Oasis</td>\n      <td>Harlem</td>\n      <td>10</td>\n      <td>92.0</td>\n      <td>https://a0.muscache.com/im/pictures/6fae5362-9...</td>\n      <td>10027</td>\n      <td>1.0</td>\n      <td>3.0</td>\n    </tr>\n    <tr>\n      <th>13418779</th>\n      <td>6.620073</td>\n      <td>House</td>\n      <td>Entire home/apt</td>\n      <td>{TV,\"Cable TV\",Internet,\"Wireless Internet\",Ki...</td>\n      <td>4</td>\n      <td>1.0</td>\n      <td>Real Bed</td>\n      <td>flexible</td>\n      <td>True</td>\n      <td>SF</td>\n      <td>...</td>\n      <td>37.772004</td>\n      <td>-122.431619</td>\n      <td>Beautiful Flat in the Heart of SF!</td>\n      <td>Lower Haight</td>\n      <td>0</td>\n      <td>NaN</td>\n      <td>https://a0.muscache.com/im/pictures/72208dad-9...</td>\n      <td>94117.0</td>\n      <td>2.0</td>\n      <td>2.0</td>\n    </tr>\n    <tr>\n      <th>3808709</th>\n      <td>4.744932</td>\n      <td>Apartment</td>\n      <td>Entire home/apt</td>\n      <td>{TV,Internet,\"Wireless Internet\",\"Air conditio...</td>\n      <td>2</td>\n      <td>1.0</td>\n      <td>Real Bed</td>\n      <td>moderate</td>\n      <td>True</td>\n      <td>DC</td>\n      <td>...</td>\n      <td>38.925627</td>\n      <td>-77.034596</td>\n      <td>Great studio in midtown DC</td>\n      <td>Columbia Heights</td>\n      <td>4</td>\n      <td>40.0</td>\n      <td>NaN</td>\n      <td>20009</td>\n      <td>0.0</td>\n      <td>1.0</td>\n    </tr>\n  </tbody>\n</table>\n<p>5 rows × 28 columns</p>\n</div>"
     },
     "metadata": {},
     "execution_count": 3
    }
   ],
   "source": [
    "df.head(5)"
   ]
  },
  {
   "cell_type": "code",
   "execution_count": 4,
   "metadata": {},
   "outputs": [
    {
     "output_type": "execute_result",
     "data": {
      "text/plain": [
       "35"
      ]
     },
     "metadata": {},
     "execution_count": 4
    }
   ],
   "source": [
    "df[\"\"].nunique()"
   ]
  },
  {
   "cell_type": "code",
   "execution_count": 19,
   "metadata": {},
   "outputs": [
    {
     "output_type": "execute_result",
     "data": {
      "text/plain": [
       "          log_price property_type        room_type  \\\n",
       "id                                                   \n",
       "6064632    4.744932     Apartment     Private room   \n",
       "18629649   4.248495     Apartment  Entire home/apt   \n",
       "16930115   5.438079     Apartment  Entire home/apt   \n",
       "3812683    4.418841     Apartment  Entire home/apt   \n",
       "16459114   5.214936     Apartment  Entire home/apt   \n",
       "...             ...           ...              ...   \n",
       "1112299    4.787492     Apartment  Entire home/apt   \n",
       "11371535   5.662960     Apartment  Entire home/apt   \n",
       "13659198   4.867534     Apartment     Private room   \n",
       "15862199   4.787492     Apartment     Private room   \n",
       "9104876    4.990433     Apartment  Entire home/apt   \n",
       "\n",
       "                                                  amenities  accommodates  \\\n",
       "id                                                                          \n",
       "6064632   {TV,\"Air conditioning\",Kitchen,\"Pets allowed\",...             4   \n",
       "18629649  {TV,Internet,\"Wireless Internet\",\"Air conditio...             3   \n",
       "16930115  {TV,\"Cable TV\",Internet,\"Wireless Internet\",\"A...             6   \n",
       "3812683   {TV,\"Cable TV\",Internet,\"Wireless Internet\",\"A...             4   \n",
       "16459114  {TV,Internet,\"Wireless Internet\",\"Air conditio...             4   \n",
       "...                                                     ...           ...   \n",
       "1112299   {TV,\"Cable TV\",Internet,\"Wireless Internet\",\"A...             2   \n",
       "11371535  {TV,Internet,\"Wireless Internet\",\"Air conditio...             2   \n",
       "13659198  {TV,\"Wireless Internet\",\"Air conditioning\",Kit...             1   \n",
       "15862199  {Internet,\"Wireless Internet\",\"Air conditionin...             3   \n",
       "9104876   {TV,Internet,\"Wireless Internet\",\"Air conditio...             3   \n",
       "\n",
       "          bathrooms  bed_type cancellation_policy  cleaning_fee city  ...  \\\n",
       "id                                                                    ...   \n",
       "6064632         1.0  Real Bed              strict          True  NYC  ...   \n",
       "18629649        1.0  Real Bed              strict          True  NYC  ...   \n",
       "16930115        1.0  Real Bed              strict          True  NYC  ...   \n",
       "3812683         1.0  Real Bed              strict          True  NYC  ...   \n",
       "16459114        1.0  Real Bed              strict          True  NYC  ...   \n",
       "...             ...       ...                 ...           ...  ...  ...   \n",
       "1112299         1.0  Real Bed              strict          True  NYC  ...   \n",
       "11371535        1.0  Real Bed              strict          True  NYC  ...   \n",
       "13659198        1.0  Real Bed            flexible         False  NYC  ...   \n",
       "15862199        1.5  Real Bed            moderate          True  NYC  ...   \n",
       "9104876         1.0  Real Bed            flexible          True  NYC  ...   \n",
       "\n",
       "           latitude  longitude  \\\n",
       "id                               \n",
       "6064632   40.747710 -73.988725   \n",
       "18629649  40.747780 -73.987162   \n",
       "16930115  40.748082 -73.987299   \n",
       "3812683   40.747860 -73.988525   \n",
       "16459114  40.746556 -73.987409   \n",
       "...             ...        ...   \n",
       "1112299   40.747449 -73.987073   \n",
       "11371535  40.747538 -73.987413   \n",
       "13659198  40.748178 -73.988556   \n",
       "15862199  40.749131 -73.986396   \n",
       "9104876   40.747312 -73.987529   \n",
       "\n",
       "                                                       name neighbourhood  \\\n",
       "id                                                                          \n",
       "6064632                            Delightful place to stay       Midtown   \n",
       "18629649                Studio*Empire State Building*5 Ave*       Midtown   \n",
       "16930115  Empire State Building View Family Studio Apart...       Midtown   \n",
       "3812683                        Deluxe Studio ,Herald Square       Midtown   \n",
       "16459114                Best Location Midtown Studio w2beds       Midtown   \n",
       "...                                                     ...           ...   \n",
       "1112299   Broadway - Empire State - 5th Ave - Cute Apart...       Midtown   \n",
       "11371535              Luxurious Studio at MidTown Manhattan       Midtown   \n",
       "13659198                                Studio Apartment NY       Midtown   \n",
       "15862199  Master bdr@ Ktown Midtown - heart of NYC Heral...       Midtown   \n",
       "9104876              Spacious Modern Studio in Midtown East       Midtown   \n",
       "\n",
       "         number_of_reviews review_scores_rating  \\\n",
       "id                                                \n",
       "6064632                  2                 80.0   \n",
       "18629649                47                 87.0   \n",
       "16930115                95                 91.0   \n",
       "3812683                 33                 88.0   \n",
       "16459114                89                 88.0   \n",
       "...                    ...                  ...   \n",
       "1112299                 50                 95.0   \n",
       "11371535                 2                 90.0   \n",
       "13659198                 5                  NaN   \n",
       "15862199                 3                 70.0   \n",
       "9104876                  2                100.0   \n",
       "\n",
       "                                              thumbnail_url zipcode  bedrooms  \\\n",
       "id                                                                              \n",
       "6064632                                                 NaN   10001       1.0   \n",
       "18629649  https://a0.muscache.com/im/pictures/f4f56f02-4...   10001       0.0   \n",
       "16930115  https://a0.muscache.com/im/pictures/58cdbd58-7...   10001       0.0   \n",
       "3812683   https://a0.muscache.com/im/pictures/c7cac551-6...   10001       0.0   \n",
       "16459114  https://a0.muscache.com/im/pictures/4bba2341-2...   10001       0.0   \n",
       "...                                                     ...     ...       ...   \n",
       "1112299   https://a0.muscache.com/im/pictures/b35c063e-c...   10001       0.0   \n",
       "11371535  https://a0.muscache.com/im/pictures/bf6a1fae-9...   10001       1.0   \n",
       "13659198  https://a0.muscache.com/im/pictures/73bd5d44-e...   10001       1.0   \n",
       "15862199  https://a0.muscache.com/im/pictures/e0a39a24-f...   10001       1.0   \n",
       "9104876   https://a0.muscache.com/im/pictures/f902da23-8...   10001       0.0   \n",
       "\n",
       "          beds  \n",
       "id              \n",
       "6064632    2.0  \n",
       "18629649   2.0  \n",
       "16930115   3.0  \n",
       "3812683    2.0  \n",
       "16459114   2.0  \n",
       "...        ...  \n",
       "1112299    1.0  \n",
       "11371535   1.0  \n",
       "13659198   2.0  \n",
       "15862199   1.0  \n",
       "9104876    1.0  \n",
       "\n",
       "[100 rows x 28 columns]"
      ],
      "text/html": "<div>\n<style scoped>\n    .dataframe tbody tr th:only-of-type {\n        vertical-align: middle;\n    }\n\n    .dataframe tbody tr th {\n        vertical-align: top;\n    }\n\n    .dataframe thead th {\n        text-align: right;\n    }\n</style>\n<table border=\"1\" class=\"dataframe\">\n  <thead>\n    <tr style=\"text-align: right;\">\n      <th></th>\n      <th>log_price</th>\n      <th>property_type</th>\n      <th>room_type</th>\n      <th>amenities</th>\n      <th>accommodates</th>\n      <th>bathrooms</th>\n      <th>bed_type</th>\n      <th>cancellation_policy</th>\n      <th>cleaning_fee</th>\n      <th>city</th>\n      <th>...</th>\n      <th>latitude</th>\n      <th>longitude</th>\n      <th>name</th>\n      <th>neighbourhood</th>\n      <th>number_of_reviews</th>\n      <th>review_scores_rating</th>\n      <th>thumbnail_url</th>\n      <th>zipcode</th>\n      <th>bedrooms</th>\n      <th>beds</th>\n    </tr>\n    <tr>\n      <th>id</th>\n      <th></th>\n      <th></th>\n      <th></th>\n      <th></th>\n      <th></th>\n      <th></th>\n      <th></th>\n      <th></th>\n      <th></th>\n      <th></th>\n      <th></th>\n      <th></th>\n      <th></th>\n      <th></th>\n      <th></th>\n      <th></th>\n      <th></th>\n      <th></th>\n      <th></th>\n      <th></th>\n      <th></th>\n    </tr>\n  </thead>\n  <tbody>\n    <tr>\n      <th>6064632</th>\n      <td>4.744932</td>\n      <td>Apartment</td>\n      <td>Private room</td>\n      <td>{TV,\"Air conditioning\",Kitchen,\"Pets allowed\",...</td>\n      <td>4</td>\n      <td>1.0</td>\n      <td>Real Bed</td>\n      <td>strict</td>\n      <td>True</td>\n      <td>NYC</td>\n      <td>...</td>\n      <td>40.747710</td>\n      <td>-73.988725</td>\n      <td>Delightful place to stay</td>\n      <td>Midtown</td>\n      <td>2</td>\n      <td>80.0</td>\n      <td>NaN</td>\n      <td>10001</td>\n      <td>1.0</td>\n      <td>2.0</td>\n    </tr>\n    <tr>\n      <th>18629649</th>\n      <td>4.248495</td>\n      <td>Apartment</td>\n      <td>Entire home/apt</td>\n      <td>{TV,Internet,\"Wireless Internet\",\"Air conditio...</td>\n      <td>3</td>\n      <td>1.0</td>\n      <td>Real Bed</td>\n      <td>strict</td>\n      <td>True</td>\n      <td>NYC</td>\n      <td>...</td>\n      <td>40.747780</td>\n      <td>-73.987162</td>\n      <td>Studio*Empire State Building*5 Ave*</td>\n      <td>Midtown</td>\n      <td>47</td>\n      <td>87.0</td>\n      <td>https://a0.muscache.com/im/pictures/f4f56f02-4...</td>\n      <td>10001</td>\n      <td>0.0</td>\n      <td>2.0</td>\n    </tr>\n    <tr>\n      <th>16930115</th>\n      <td>5.438079</td>\n      <td>Apartment</td>\n      <td>Entire home/apt</td>\n      <td>{TV,\"Cable TV\",Internet,\"Wireless Internet\",\"A...</td>\n      <td>6</td>\n      <td>1.0</td>\n      <td>Real Bed</td>\n      <td>strict</td>\n      <td>True</td>\n      <td>NYC</td>\n      <td>...</td>\n      <td>40.748082</td>\n      <td>-73.987299</td>\n      <td>Empire State Building View Family Studio Apart...</td>\n      <td>Midtown</td>\n      <td>95</td>\n      <td>91.0</td>\n      <td>https://a0.muscache.com/im/pictures/58cdbd58-7...</td>\n      <td>10001</td>\n      <td>0.0</td>\n      <td>3.0</td>\n    </tr>\n    <tr>\n      <th>3812683</th>\n      <td>4.418841</td>\n      <td>Apartment</td>\n      <td>Entire home/apt</td>\n      <td>{TV,\"Cable TV\",Internet,\"Wireless Internet\",\"A...</td>\n      <td>4</td>\n      <td>1.0</td>\n      <td>Real Bed</td>\n      <td>strict</td>\n      <td>True</td>\n      <td>NYC</td>\n      <td>...</td>\n      <td>40.747860</td>\n      <td>-73.988525</td>\n      <td>Deluxe Studio ,Herald Square</td>\n      <td>Midtown</td>\n      <td>33</td>\n      <td>88.0</td>\n      <td>https://a0.muscache.com/im/pictures/c7cac551-6...</td>\n      <td>10001</td>\n      <td>0.0</td>\n      <td>2.0</td>\n    </tr>\n    <tr>\n      <th>16459114</th>\n      <td>5.214936</td>\n      <td>Apartment</td>\n      <td>Entire home/apt</td>\n      <td>{TV,Internet,\"Wireless Internet\",\"Air conditio...</td>\n      <td>4</td>\n      <td>1.0</td>\n      <td>Real Bed</td>\n      <td>strict</td>\n      <td>True</td>\n      <td>NYC</td>\n      <td>...</td>\n      <td>40.746556</td>\n      <td>-73.987409</td>\n      <td>Best Location Midtown Studio w2beds</td>\n      <td>Midtown</td>\n      <td>89</td>\n      <td>88.0</td>\n      <td>https://a0.muscache.com/im/pictures/4bba2341-2...</td>\n      <td>10001</td>\n      <td>0.0</td>\n      <td>2.0</td>\n    </tr>\n    <tr>\n      <th>...</th>\n      <td>...</td>\n      <td>...</td>\n      <td>...</td>\n      <td>...</td>\n      <td>...</td>\n      <td>...</td>\n      <td>...</td>\n      <td>...</td>\n      <td>...</td>\n      <td>...</td>\n      <td>...</td>\n      <td>...</td>\n      <td>...</td>\n      <td>...</td>\n      <td>...</td>\n      <td>...</td>\n      <td>...</td>\n      <td>...</td>\n      <td>...</td>\n      <td>...</td>\n      <td>...</td>\n    </tr>\n    <tr>\n      <th>1112299</th>\n      <td>4.787492</td>\n      <td>Apartment</td>\n      <td>Entire home/apt</td>\n      <td>{TV,\"Cable TV\",Internet,\"Wireless Internet\",\"A...</td>\n      <td>2</td>\n      <td>1.0</td>\n      <td>Real Bed</td>\n      <td>strict</td>\n      <td>True</td>\n      <td>NYC</td>\n      <td>...</td>\n      <td>40.747449</td>\n      <td>-73.987073</td>\n      <td>Broadway - Empire State - 5th Ave - Cute Apart...</td>\n      <td>Midtown</td>\n      <td>50</td>\n      <td>95.0</td>\n      <td>https://a0.muscache.com/im/pictures/b35c063e-c...</td>\n      <td>10001</td>\n      <td>0.0</td>\n      <td>1.0</td>\n    </tr>\n    <tr>\n      <th>11371535</th>\n      <td>5.662960</td>\n      <td>Apartment</td>\n      <td>Entire home/apt</td>\n      <td>{TV,Internet,\"Wireless Internet\",\"Air conditio...</td>\n      <td>2</td>\n      <td>1.0</td>\n      <td>Real Bed</td>\n      <td>strict</td>\n      <td>True</td>\n      <td>NYC</td>\n      <td>...</td>\n      <td>40.747538</td>\n      <td>-73.987413</td>\n      <td>Luxurious Studio at MidTown Manhattan</td>\n      <td>Midtown</td>\n      <td>2</td>\n      <td>90.0</td>\n      <td>https://a0.muscache.com/im/pictures/bf6a1fae-9...</td>\n      <td>10001</td>\n      <td>1.0</td>\n      <td>1.0</td>\n    </tr>\n    <tr>\n      <th>13659198</th>\n      <td>4.867534</td>\n      <td>Apartment</td>\n      <td>Private room</td>\n      <td>{TV,\"Wireless Internet\",\"Air conditioning\",Kit...</td>\n      <td>1</td>\n      <td>1.0</td>\n      <td>Real Bed</td>\n      <td>flexible</td>\n      <td>False</td>\n      <td>NYC</td>\n      <td>...</td>\n      <td>40.748178</td>\n      <td>-73.988556</td>\n      <td>Studio Apartment NY</td>\n      <td>Midtown</td>\n      <td>5</td>\n      <td>NaN</td>\n      <td>https://a0.muscache.com/im/pictures/73bd5d44-e...</td>\n      <td>10001</td>\n      <td>1.0</td>\n      <td>2.0</td>\n    </tr>\n    <tr>\n      <th>15862199</th>\n      <td>4.787492</td>\n      <td>Apartment</td>\n      <td>Private room</td>\n      <td>{Internet,\"Wireless Internet\",\"Air conditionin...</td>\n      <td>3</td>\n      <td>1.5</td>\n      <td>Real Bed</td>\n      <td>moderate</td>\n      <td>True</td>\n      <td>NYC</td>\n      <td>...</td>\n      <td>40.749131</td>\n      <td>-73.986396</td>\n      <td>Master bdr@ Ktown Midtown - heart of NYC Heral...</td>\n      <td>Midtown</td>\n      <td>3</td>\n      <td>70.0</td>\n      <td>https://a0.muscache.com/im/pictures/e0a39a24-f...</td>\n      <td>10001</td>\n      <td>1.0</td>\n      <td>1.0</td>\n    </tr>\n    <tr>\n      <th>9104876</th>\n      <td>4.990433</td>\n      <td>Apartment</td>\n      <td>Entire home/apt</td>\n      <td>{TV,Internet,\"Wireless Internet\",\"Air conditio...</td>\n      <td>3</td>\n      <td>1.0</td>\n      <td>Real Bed</td>\n      <td>flexible</td>\n      <td>True</td>\n      <td>NYC</td>\n      <td>...</td>\n      <td>40.747312</td>\n      <td>-73.987529</td>\n      <td>Spacious Modern Studio in Midtown East</td>\n      <td>Midtown</td>\n      <td>2</td>\n      <td>100.0</td>\n      <td>https://a0.muscache.com/im/pictures/f902da23-8...</td>\n      <td>10001</td>\n      <td>0.0</td>\n      <td>1.0</td>\n    </tr>\n  </tbody>\n</table>\n<p>100 rows × 28 columns</p>\n</div>"
     },
     "metadata": {},
     "execution_count": 19
    }
   ],
   "source": [
    "df[df[\"zipcode\"] == '10001']"
   ]
  },
  {
   "cell_type": "code",
   "execution_count": 14,
   "metadata": {},
   "outputs": [
    {
     "output_type": "execute_result",
     "data": {
      "text/plain": [
       "          log_price property_type        room_type  \\\n",
       "id                                                   \n",
       "6901257    5.010635     Apartment  Entire home/apt   \n",
       "6304928    5.129899     Apartment  Entire home/apt   \n",
       "7919400    4.976734     Apartment  Entire home/apt   \n",
       "5578513    4.605170     Apartment     Private room   \n",
       "17589436   4.882802     Apartment  Entire home/apt   \n",
       "...             ...           ...              ...   \n",
       "15952947   4.700480     Apartment     Private room   \n",
       "13862304   4.605170     Apartment     Private room   \n",
       "14549287   4.605170     Apartment     Private room   \n",
       "18688039   5.220356     Apartment  Entire home/apt   \n",
       "17045948   5.273000     Apartment  Entire home/apt   \n",
       "\n",
       "                                                  amenities  accommodates  \\\n",
       "id                                                                          \n",
       "6901257   {\"Wireless Internet\",\"Air conditioning\",Kitche...             3   \n",
       "6304928   {\"Wireless Internet\",\"Air conditioning\",Kitche...             7   \n",
       "7919400   {TV,\"Cable TV\",\"Wireless Internet\",\"Air condit...             5   \n",
       "5578513   {Internet,\"Wireless Internet\",\"Air conditionin...             2   \n",
       "17589436  {TV,\"Cable TV\",Internet,\"Wireless Internet\",\"A...             2   \n",
       "...                                                     ...           ...   \n",
       "15952947  {Internet,\"Wireless Internet\",\"Air conditionin...             2   \n",
       "13862304  {Internet,\"Wireless Internet\",\"Air conditionin...             2   \n",
       "14549287                                                 {}             1   \n",
       "18688039  {TV,Internet,\"Wireless Internet\",\"Air conditio...             5   \n",
       "17045948  {TV,\"Wireless Internet\",\"Air conditioning\",Kit...             2   \n",
       "\n",
       "          bathrooms  bed_type cancellation_policy  cleaning_fee city  ...  \\\n",
       "id                                                                    ...   \n",
       "6901257         1.0  Real Bed              strict          True  NYC  ...   \n",
       "6304928         1.0  Real Bed              strict          True  NYC  ...   \n",
       "7919400         1.0  Real Bed            moderate          True  NYC  ...   \n",
       "5578513         1.0  Real Bed              strict          True  NYC  ...   \n",
       "17589436        1.0  Real Bed              strict          True  NYC  ...   \n",
       "...             ...       ...                 ...           ...  ...  ...   \n",
       "15952947        1.0  Real Bed            flexible          True  NYC  ...   \n",
       "13862304        1.0  Real Bed              strict          True  NYC  ...   \n",
       "14549287        1.0  Real Bed            flexible         False  NYC  ...   \n",
       "18688039        1.0  Real Bed            moderate          True  NYC  ...   \n",
       "17045948        1.0  Real Bed              strict          True  NYC  ...   \n",
       "\n",
       "           latitude  longitude                                        name  \\\n",
       "id                                                                           \n",
       "6901257   40.696524 -73.991617              Beautiful brownstone 1-bedroom   \n",
       "6304928   40.766115 -73.989040    Superb 3BR Apt Located Near Times Square   \n",
       "7919400   40.808110 -73.943756                            The Garden Oasis   \n",
       "5578513   40.723883 -73.983880          Large East Village Bedroom To Let!   \n",
       "17589436  40.719086 -73.990285           Amazing LES apt - cool, bright...   \n",
       "...             ...        ...                                         ...   \n",
       "15952947  40.740904 -74.002948           Room in Beautiful Downtown Duplex   \n",
       "13862304  40.715080 -73.945856         Airy, Modern, Luxurious Room W'burg   \n",
       "14549287  40.709025 -73.939405                           one room bushwick   \n",
       "18688039  40.706749 -73.942377  Modern 2 Bedroom Apartment in Williamsburg   \n",
       "17045948  40.738535 -74.000157        Designer's Apartment in HEART of NYC   \n",
       "\n",
       "             neighbourhood number_of_reviews review_scores_rating  \\\n",
       "id                                                                  \n",
       "6901257   Brooklyn Heights                 2                100.0   \n",
       "6304928     Hell's Kitchen                 6                 93.0   \n",
       "7919400             Harlem                10                 92.0   \n",
       "5578513      Alphabet City                82                 93.0   \n",
       "17589436   Lower East Side                26                 86.0   \n",
       "...                    ...               ...                  ...   \n",
       "15952947           Chelsea                31                 92.0   \n",
       "13862304      Williamsburg                32                 93.0   \n",
       "14549287      Williamsburg                 0                  NaN   \n",
       "18688039      Williamsburg                43                 94.0   \n",
       "17045948      West Village                 0                  NaN   \n",
       "\n",
       "                                              thumbnail_url  zipcode  \\\n",
       "id                                                                     \n",
       "6901257   https://a0.muscache.com/im/pictures/6d7cbbf7-c...    11201   \n",
       "6304928   https://a0.muscache.com/im/pictures/348a55fe-4...    10019   \n",
       "7919400   https://a0.muscache.com/im/pictures/6fae5362-9...    10027   \n",
       "5578513   https://a0.muscache.com/im/pictures/21726900/1...  10009.0   \n",
       "17589436                                                NaN    10002   \n",
       "...                                                     ...      ...   \n",
       "15952947  https://a0.muscache.com/im/pictures/77562b35-c...  10011.0   \n",
       "13862304                                                NaN  11211.0   \n",
       "14549287  https://a0.muscache.com/im/pictures/55162426/6...  11206.0   \n",
       "18688039  https://a0.muscache.com/im/pictures/7fbe448c-5...  11206.0   \n",
       "17045948  https://a0.muscache.com/im/pictures/b3971b63-0...    10011   \n",
       "\n",
       "          bedrooms  beds  \n",
       "id                        \n",
       "6901257        1.0   1.0  \n",
       "6304928        3.0   3.0  \n",
       "7919400        1.0   3.0  \n",
       "5578513        1.0   1.0  \n",
       "17589436       1.0   2.0  \n",
       "...            ...   ...  \n",
       "15952947       1.0   1.0  \n",
       "13862304       1.0   1.0  \n",
       "14549287       1.0   1.0  \n",
       "18688039       2.0   2.0  \n",
       "17045948       0.0   2.0  \n",
       "\n",
       "[32349 rows x 28 columns]"
      ],
      "text/html": "<div>\n<style scoped>\n    .dataframe tbody tr th:only-of-type {\n        vertical-align: middle;\n    }\n\n    .dataframe tbody tr th {\n        vertical-align: top;\n    }\n\n    .dataframe thead th {\n        text-align: right;\n    }\n</style>\n<table border=\"1\" class=\"dataframe\">\n  <thead>\n    <tr style=\"text-align: right;\">\n      <th></th>\n      <th>log_price</th>\n      <th>property_type</th>\n      <th>room_type</th>\n      <th>amenities</th>\n      <th>accommodates</th>\n      <th>bathrooms</th>\n      <th>bed_type</th>\n      <th>cancellation_policy</th>\n      <th>cleaning_fee</th>\n      <th>city</th>\n      <th>...</th>\n      <th>latitude</th>\n      <th>longitude</th>\n      <th>name</th>\n      <th>neighbourhood</th>\n      <th>number_of_reviews</th>\n      <th>review_scores_rating</th>\n      <th>thumbnail_url</th>\n      <th>zipcode</th>\n      <th>bedrooms</th>\n      <th>beds</th>\n    </tr>\n    <tr>\n      <th>id</th>\n      <th></th>\n      <th></th>\n      <th></th>\n      <th></th>\n      <th></th>\n      <th></th>\n      <th></th>\n      <th></th>\n      <th></th>\n      <th></th>\n      <th></th>\n      <th></th>\n      <th></th>\n      <th></th>\n      <th></th>\n      <th></th>\n      <th></th>\n      <th></th>\n      <th></th>\n      <th></th>\n      <th></th>\n    </tr>\n  </thead>\n  <tbody>\n    <tr>\n      <th>6901257</th>\n      <td>5.010635</td>\n      <td>Apartment</td>\n      <td>Entire home/apt</td>\n      <td>{\"Wireless Internet\",\"Air conditioning\",Kitche...</td>\n      <td>3</td>\n      <td>1.0</td>\n      <td>Real Bed</td>\n      <td>strict</td>\n      <td>True</td>\n      <td>NYC</td>\n      <td>...</td>\n      <td>40.696524</td>\n      <td>-73.991617</td>\n      <td>Beautiful brownstone 1-bedroom</td>\n      <td>Brooklyn Heights</td>\n      <td>2</td>\n      <td>100.0</td>\n      <td>https://a0.muscache.com/im/pictures/6d7cbbf7-c...</td>\n      <td>11201</td>\n      <td>1.0</td>\n      <td>1.0</td>\n    </tr>\n    <tr>\n      <th>6304928</th>\n      <td>5.129899</td>\n      <td>Apartment</td>\n      <td>Entire home/apt</td>\n      <td>{\"Wireless Internet\",\"Air conditioning\",Kitche...</td>\n      <td>7</td>\n      <td>1.0</td>\n      <td>Real Bed</td>\n      <td>strict</td>\n      <td>True</td>\n      <td>NYC</td>\n      <td>...</td>\n      <td>40.766115</td>\n      <td>-73.989040</td>\n      <td>Superb 3BR Apt Located Near Times Square</td>\n      <td>Hell's Kitchen</td>\n      <td>6</td>\n      <td>93.0</td>\n      <td>https://a0.muscache.com/im/pictures/348a55fe-4...</td>\n      <td>10019</td>\n      <td>3.0</td>\n      <td>3.0</td>\n    </tr>\n    <tr>\n      <th>7919400</th>\n      <td>4.976734</td>\n      <td>Apartment</td>\n      <td>Entire home/apt</td>\n      <td>{TV,\"Cable TV\",\"Wireless Internet\",\"Air condit...</td>\n      <td>5</td>\n      <td>1.0</td>\n      <td>Real Bed</td>\n      <td>moderate</td>\n      <td>True</td>\n      <td>NYC</td>\n      <td>...</td>\n      <td>40.808110</td>\n      <td>-73.943756</td>\n      <td>The Garden Oasis</td>\n      <td>Harlem</td>\n      <td>10</td>\n      <td>92.0</td>\n      <td>https://a0.muscache.com/im/pictures/6fae5362-9...</td>\n      <td>10027</td>\n      <td>1.0</td>\n      <td>3.0</td>\n    </tr>\n    <tr>\n      <th>5578513</th>\n      <td>4.605170</td>\n      <td>Apartment</td>\n      <td>Private room</td>\n      <td>{Internet,\"Wireless Internet\",\"Air conditionin...</td>\n      <td>2</td>\n      <td>1.0</td>\n      <td>Real Bed</td>\n      <td>strict</td>\n      <td>True</td>\n      <td>NYC</td>\n      <td>...</td>\n      <td>40.723883</td>\n      <td>-73.983880</td>\n      <td>Large East Village Bedroom To Let!</td>\n      <td>Alphabet City</td>\n      <td>82</td>\n      <td>93.0</td>\n      <td>https://a0.muscache.com/im/pictures/21726900/1...</td>\n      <td>10009.0</td>\n      <td>1.0</td>\n      <td>1.0</td>\n    </tr>\n    <tr>\n      <th>17589436</th>\n      <td>4.882802</td>\n      <td>Apartment</td>\n      <td>Entire home/apt</td>\n      <td>{TV,\"Cable TV\",Internet,\"Wireless Internet\",\"A...</td>\n      <td>2</td>\n      <td>1.0</td>\n      <td>Real Bed</td>\n      <td>strict</td>\n      <td>True</td>\n      <td>NYC</td>\n      <td>...</td>\n      <td>40.719086</td>\n      <td>-73.990285</td>\n      <td>Amazing LES apt - cool, bright...</td>\n      <td>Lower East Side</td>\n      <td>26</td>\n      <td>86.0</td>\n      <td>NaN</td>\n      <td>10002</td>\n      <td>1.0</td>\n      <td>2.0</td>\n    </tr>\n    <tr>\n      <th>...</th>\n      <td>...</td>\n      <td>...</td>\n      <td>...</td>\n      <td>...</td>\n      <td>...</td>\n      <td>...</td>\n      <td>...</td>\n      <td>...</td>\n      <td>...</td>\n      <td>...</td>\n      <td>...</td>\n      <td>...</td>\n      <td>...</td>\n      <td>...</td>\n      <td>...</td>\n      <td>...</td>\n      <td>...</td>\n      <td>...</td>\n      <td>...</td>\n      <td>...</td>\n      <td>...</td>\n    </tr>\n    <tr>\n      <th>15952947</th>\n      <td>4.700480</td>\n      <td>Apartment</td>\n      <td>Private room</td>\n      <td>{Internet,\"Wireless Internet\",\"Air conditionin...</td>\n      <td>2</td>\n      <td>1.0</td>\n      <td>Real Bed</td>\n      <td>flexible</td>\n      <td>True</td>\n      <td>NYC</td>\n      <td>...</td>\n      <td>40.740904</td>\n      <td>-74.002948</td>\n      <td>Room in Beautiful Downtown Duplex</td>\n      <td>Chelsea</td>\n      <td>31</td>\n      <td>92.0</td>\n      <td>https://a0.muscache.com/im/pictures/77562b35-c...</td>\n      <td>10011.0</td>\n      <td>1.0</td>\n      <td>1.0</td>\n    </tr>\n    <tr>\n      <th>13862304</th>\n      <td>4.605170</td>\n      <td>Apartment</td>\n      <td>Private room</td>\n      <td>{Internet,\"Wireless Internet\",\"Air conditionin...</td>\n      <td>2</td>\n      <td>1.0</td>\n      <td>Real Bed</td>\n      <td>strict</td>\n      <td>True</td>\n      <td>NYC</td>\n      <td>...</td>\n      <td>40.715080</td>\n      <td>-73.945856</td>\n      <td>Airy, Modern, Luxurious Room W'burg</td>\n      <td>Williamsburg</td>\n      <td>32</td>\n      <td>93.0</td>\n      <td>NaN</td>\n      <td>11211.0</td>\n      <td>1.0</td>\n      <td>1.0</td>\n    </tr>\n    <tr>\n      <th>14549287</th>\n      <td>4.605170</td>\n      <td>Apartment</td>\n      <td>Private room</td>\n      <td>{}</td>\n      <td>1</td>\n      <td>1.0</td>\n      <td>Real Bed</td>\n      <td>flexible</td>\n      <td>False</td>\n      <td>NYC</td>\n      <td>...</td>\n      <td>40.709025</td>\n      <td>-73.939405</td>\n      <td>one room bushwick</td>\n      <td>Williamsburg</td>\n      <td>0</td>\n      <td>NaN</td>\n      <td>https://a0.muscache.com/im/pictures/55162426/6...</td>\n      <td>11206.0</td>\n      <td>1.0</td>\n      <td>1.0</td>\n    </tr>\n    <tr>\n      <th>18688039</th>\n      <td>5.220356</td>\n      <td>Apartment</td>\n      <td>Entire home/apt</td>\n      <td>{TV,Internet,\"Wireless Internet\",\"Air conditio...</td>\n      <td>5</td>\n      <td>1.0</td>\n      <td>Real Bed</td>\n      <td>moderate</td>\n      <td>True</td>\n      <td>NYC</td>\n      <td>...</td>\n      <td>40.706749</td>\n      <td>-73.942377</td>\n      <td>Modern 2 Bedroom Apartment in Williamsburg</td>\n      <td>Williamsburg</td>\n      <td>43</td>\n      <td>94.0</td>\n      <td>https://a0.muscache.com/im/pictures/7fbe448c-5...</td>\n      <td>11206.0</td>\n      <td>2.0</td>\n      <td>2.0</td>\n    </tr>\n    <tr>\n      <th>17045948</th>\n      <td>5.273000</td>\n      <td>Apartment</td>\n      <td>Entire home/apt</td>\n      <td>{TV,\"Wireless Internet\",\"Air conditioning\",Kit...</td>\n      <td>2</td>\n      <td>1.0</td>\n      <td>Real Bed</td>\n      <td>strict</td>\n      <td>True</td>\n      <td>NYC</td>\n      <td>...</td>\n      <td>40.738535</td>\n      <td>-74.000157</td>\n      <td>Designer's Apartment in HEART of NYC</td>\n      <td>West Village</td>\n      <td>0</td>\n      <td>NaN</td>\n      <td>https://a0.muscache.com/im/pictures/b3971b63-0...</td>\n      <td>10011</td>\n      <td>0.0</td>\n      <td>2.0</td>\n    </tr>\n  </tbody>\n</table>\n<p>32349 rows × 28 columns</p>\n</div>"
     },
     "metadata": {},
     "execution_count": 14
    }
   ],
   "source": [
    "df[df[\"city\"] == \"NYC\"]"
   ]
  },
  {
   "cell_type": "code",
   "execution_count": null,
   "metadata": {},
   "outputs": [],
   "source": []
  },
  {
   "cell_type": "code",
   "execution_count": 4,
   "metadata": {},
   "outputs": [
    {
     "output_type": "execute_result",
     "data": {
      "text/plain": [
       "(74111, 28)"
      ]
     },
     "metadata": {},
     "execution_count": 4
    }
   ],
   "source": [
    "df.shape"
   ]
  },
  {
   "cell_type": "code",
   "execution_count": 5,
   "metadata": {},
   "outputs": [
    {
     "output_type": "execute_result",
     "data": {
      "text/plain": [
       "'{\"Wireless Internet\",\"Air conditioning\",Kitchen,Heating,\"Family/kid friendly\",Essentials,\"Hair dryer\",Iron,\"translation missing: en.hosting_amenity_50\"}'"
      ]
     },
     "metadata": {},
     "execution_count": 5
    }
   ],
   "source": [
    "df[\"amenities\"].iloc[0]\n",
    "\n",
    "'{\"Wireless Internet\",\"Air conditioning\",Kitchen,Heating,\"Family/kid friendly\",Essentials,\"Hair dryer\",Iron,\"translation missing: en.hosting_amenity_50\"}'"
   ]
  },
  {
   "cell_type": "code",
   "execution_count": 6,
   "metadata": {},
   "outputs": [
    {
     "output_type": "stream",
     "name": "stdout",
     "text": [
      "<class 'pandas.core.frame.DataFrame'>\nInt64Index: 74111 entries, 6901257 to 3534845\nData columns (total 28 columns):\n #   Column                  Non-Null Count  Dtype  \n---  ------                  --------------  -----  \n 0   log_price               74111 non-null  float64\n 1   property_type           74111 non-null  object \n 2   room_type               74111 non-null  object \n 3   amenities               74111 non-null  object \n 4   accommodates            74111 non-null  int64  \n 5   bathrooms               73911 non-null  float64\n 6   bed_type                74111 non-null  object \n 7   cancellation_policy     74111 non-null  object \n 8   cleaning_fee            74111 non-null  bool   \n 9   city                    74111 non-null  object \n 10  description             74111 non-null  object \n 11  first_review            58247 non-null  object \n 12  host_has_profile_pic    73923 non-null  object \n 13  host_identity_verified  73923 non-null  object \n 14  host_response_rate      55812 non-null  object \n 15  host_since              73923 non-null  object \n 16  instant_bookable        74111 non-null  object \n 17  last_review             58284 non-null  object \n 18  latitude                74111 non-null  float64\n 19  longitude               74111 non-null  float64\n 20  name                    74111 non-null  object \n 21  neighbourhood           67239 non-null  object \n 22  number_of_reviews       74111 non-null  int64  \n 23  review_scores_rating    57389 non-null  float64\n 24  thumbnail_url           65895 non-null  object \n 25  zipcode                 73145 non-null  object \n 26  bedrooms                74020 non-null  float64\n 27  beds                    73980 non-null  float64\ndtypes: bool(1), float64(7), int64(2), object(18)\nmemory usage: 15.9+ MB\n"
     ]
    }
   ],
   "source": [
    "df.info()"
   ]
  },
  {
   "cell_type": "code",
   "execution_count": 7,
   "metadata": {},
   "outputs": [
    {
     "output_type": "execute_result",
     "data": {
      "text/plain": [
       "                      log_price  accommodates  bathrooms  cleaning_fee  \\\n",
       "log_price              1.000000      0.567574   0.355420      0.111191   \n",
       "accommodates           0.567574      1.000000   0.505632      0.182306   \n",
       "bathrooms              0.355420      0.505632   1.000000      0.053784   \n",
       "cleaning_fee           0.111191      0.182306   0.053784      1.000000   \n",
       "latitude              -0.002193     -0.078309  -0.137959     -0.060913   \n",
       "longitude             -0.047529     -0.085160  -0.135026     -0.068505   \n",
       "number_of_reviews     -0.032470      0.041964  -0.041381      0.110204   \n",
       "review_scores_rating   0.091219     -0.017128   0.010537      0.034879   \n",
       "bedrooms               0.473212      0.709258   0.589935      0.105454   \n",
       "beds                   0.442153      0.810801   0.525591      0.131632   \n",
       "\n",
       "                      latitude  longitude  number_of_reviews  \\\n",
       "log_price            -0.002193  -0.047529          -0.032470   \n",
       "accommodates         -0.078309  -0.085160           0.041964   \n",
       "bathrooms            -0.137959  -0.135026          -0.041381   \n",
       "cleaning_fee         -0.060913  -0.068505           0.110204   \n",
       "latitude              1.000000   0.896065          -0.017642   \n",
       "longitude             0.896065   1.000000          -0.050009   \n",
       "number_of_reviews    -0.017642  -0.050009           1.000000   \n",
       "review_scores_rating -0.032858  -0.048801           0.011708   \n",
       "bedrooms             -0.059162  -0.076113          -0.035149   \n",
       "beds                 -0.080294  -0.082150           0.031109   \n",
       "\n",
       "                      review_scores_rating  bedrooms      beds  \n",
       "log_price                         0.091219  0.473212  0.442153  \n",
       "accommodates                     -0.017128  0.709258  0.810801  \n",
       "bathrooms                         0.010537  0.589935  0.525591  \n",
       "cleaning_fee                      0.034879  0.105454  0.131632  \n",
       "latitude                         -0.032858 -0.059162 -0.080294  \n",
       "longitude                        -0.048801 -0.076113 -0.082150  \n",
       "number_of_reviews                 0.011708 -0.035149  0.031109  \n",
       "review_scores_rating              1.000000  0.011143 -0.027330  \n",
       "bedrooms                          0.011143  1.000000  0.709416  \n",
       "beds                             -0.027330  0.709416  1.000000  "
      ],
      "text/html": "<div>\n<style scoped>\n    .dataframe tbody tr th:only-of-type {\n        vertical-align: middle;\n    }\n\n    .dataframe tbody tr th {\n        vertical-align: top;\n    }\n\n    .dataframe thead th {\n        text-align: right;\n    }\n</style>\n<table border=\"1\" class=\"dataframe\">\n  <thead>\n    <tr style=\"text-align: right;\">\n      <th></th>\n      <th>log_price</th>\n      <th>accommodates</th>\n      <th>bathrooms</th>\n      <th>cleaning_fee</th>\n      <th>latitude</th>\n      <th>longitude</th>\n      <th>number_of_reviews</th>\n      <th>review_scores_rating</th>\n      <th>bedrooms</th>\n      <th>beds</th>\n    </tr>\n  </thead>\n  <tbody>\n    <tr>\n      <th>log_price</th>\n      <td>1.000000</td>\n      <td>0.567574</td>\n      <td>0.355420</td>\n      <td>0.111191</td>\n      <td>-0.002193</td>\n      <td>-0.047529</td>\n      <td>-0.032470</td>\n      <td>0.091219</td>\n      <td>0.473212</td>\n      <td>0.442153</td>\n    </tr>\n    <tr>\n      <th>accommodates</th>\n      <td>0.567574</td>\n      <td>1.000000</td>\n      <td>0.505632</td>\n      <td>0.182306</td>\n      <td>-0.078309</td>\n      <td>-0.085160</td>\n      <td>0.041964</td>\n      <td>-0.017128</td>\n      <td>0.709258</td>\n      <td>0.810801</td>\n    </tr>\n    <tr>\n      <th>bathrooms</th>\n      <td>0.355420</td>\n      <td>0.505632</td>\n      <td>1.000000</td>\n      <td>0.053784</td>\n      <td>-0.137959</td>\n      <td>-0.135026</td>\n      <td>-0.041381</td>\n      <td>0.010537</td>\n      <td>0.589935</td>\n      <td>0.525591</td>\n    </tr>\n    <tr>\n      <th>cleaning_fee</th>\n      <td>0.111191</td>\n      <td>0.182306</td>\n      <td>0.053784</td>\n      <td>1.000000</td>\n      <td>-0.060913</td>\n      <td>-0.068505</td>\n      <td>0.110204</td>\n      <td>0.034879</td>\n      <td>0.105454</td>\n      <td>0.131632</td>\n    </tr>\n    <tr>\n      <th>latitude</th>\n      <td>-0.002193</td>\n      <td>-0.078309</td>\n      <td>-0.137959</td>\n      <td>-0.060913</td>\n      <td>1.000000</td>\n      <td>0.896065</td>\n      <td>-0.017642</td>\n      <td>-0.032858</td>\n      <td>-0.059162</td>\n      <td>-0.080294</td>\n    </tr>\n    <tr>\n      <th>longitude</th>\n      <td>-0.047529</td>\n      <td>-0.085160</td>\n      <td>-0.135026</td>\n      <td>-0.068505</td>\n      <td>0.896065</td>\n      <td>1.000000</td>\n      <td>-0.050009</td>\n      <td>-0.048801</td>\n      <td>-0.076113</td>\n      <td>-0.082150</td>\n    </tr>\n    <tr>\n      <th>number_of_reviews</th>\n      <td>-0.032470</td>\n      <td>0.041964</td>\n      <td>-0.041381</td>\n      <td>0.110204</td>\n      <td>-0.017642</td>\n      <td>-0.050009</td>\n      <td>1.000000</td>\n      <td>0.011708</td>\n      <td>-0.035149</td>\n      <td>0.031109</td>\n    </tr>\n    <tr>\n      <th>review_scores_rating</th>\n      <td>0.091219</td>\n      <td>-0.017128</td>\n      <td>0.010537</td>\n      <td>0.034879</td>\n      <td>-0.032858</td>\n      <td>-0.048801</td>\n      <td>0.011708</td>\n      <td>1.000000</td>\n      <td>0.011143</td>\n      <td>-0.027330</td>\n    </tr>\n    <tr>\n      <th>bedrooms</th>\n      <td>0.473212</td>\n      <td>0.709258</td>\n      <td>0.589935</td>\n      <td>0.105454</td>\n      <td>-0.059162</td>\n      <td>-0.076113</td>\n      <td>-0.035149</td>\n      <td>0.011143</td>\n      <td>1.000000</td>\n      <td>0.709416</td>\n    </tr>\n    <tr>\n      <th>beds</th>\n      <td>0.442153</td>\n      <td>0.810801</td>\n      <td>0.525591</td>\n      <td>0.131632</td>\n      <td>-0.080294</td>\n      <td>-0.082150</td>\n      <td>0.031109</td>\n      <td>-0.027330</td>\n      <td>0.709416</td>\n      <td>1.000000</td>\n    </tr>\n  </tbody>\n</table>\n</div>"
     },
     "metadata": {},
     "execution_count": 7
    }
   ],
   "source": [
    "df.corr()\n"
   ]
  },
  {
   "cell_type": "code",
   "execution_count": 8,
   "metadata": {},
   "outputs": [
    {
     "output_type": "execute_result",
     "data": {
      "text/plain": [
       "log_price               1.000000\n",
       "accommodates            0.567574\n",
       "bedrooms                0.473212\n",
       "beds                    0.442153\n",
       "bathrooms               0.355420\n",
       "cleaning_fee            0.111191\n",
       "review_scores_rating    0.091219\n",
       "longitude               0.047529\n",
       "number_of_reviews       0.032470\n",
       "latitude                0.002193\n",
       "Name: log_price, dtype: float64"
      ]
     },
     "metadata": {},
     "execution_count": 8
    }
   ],
   "source": [
    "abs(df.corr()[\"log_price\"]).sort_values(ascending=False)"
   ]
  },
  {
   "cell_type": "code",
   "execution_count": 30,
   "metadata": {},
   "outputs": [
    {
     "output_type": "execute_result",
     "data": {
      "text/plain": [
       "t    49748\n",
       "f    24175\n",
       "Name: host_identity_verified, dtype: int64"
      ]
     },
     "metadata": {},
     "execution_count": 30
    }
   ],
   "source": [
    "df[\"host_identity_verified\"].value_counts()"
   ]
  },
  {
   "cell_type": "code",
   "execution_count": 28,
   "metadata": {},
   "outputs": [
    {
     "output_type": "execute_result",
     "data": {
      "text/plain": [
       "619"
      ]
     },
     "metadata": {},
     "execution_count": 28
    }
   ],
   "source": [
    "df[\"neighbourhood\"].nunique()"
   ]
  },
  {
   "cell_type": "code",
   "execution_count": null,
   "metadata": {},
   "outputs": [],
   "source": []
  }
 ]
}